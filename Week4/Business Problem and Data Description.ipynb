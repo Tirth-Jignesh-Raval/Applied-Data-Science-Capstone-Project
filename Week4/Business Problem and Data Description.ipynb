{
 "cells": [
  {
   "cell_type": "markdown",
   "metadata": {},
   "source": [
    "# APPLIED DATA SCIENCE CAPSTONE\n",
    "## COURSERA PROJECT REPORT\n",
    "\n",
    "<img src = 'https://digital.hbs.edu/platform-digit/wp-content/uploads/sites/2/2017/02/coursera-850x300.png'>\n",
    " \n",
    "\n",
    "### 14/03/21\tBusiness Problem\n",
    "\n",
    "\n",
    "### Financial Powerhouse of India: Mumbai \n",
    "#### Applied Data Science Capstone\n",
    "#### Coursera \n",
    "#### Project Report\n",
    "#### BUSINESS PROBLEM\n",
    "\n",
    "<b> Introduction: </b>\n",
    "\n",
    "\n",
    "Mumbai is the economic capital of India. Mumbai is the perfect mixture of customs, culture and lifestyles. Mumbai is one of the most cosmopolitan cities of India, its financial backbone called the Powerhouse, and the nerves of India’s Bollywood industry. \n",
    "\n",
    "Located on coast of Arabian Sea, Mumbai is India’s most-populated city, and it is the largest and most densely populated city in the world. Mumbai has developed as a highly diversified infrastructure.\n",
    "\n",
    "<b> Target Audience: </b>\n",
    "The idea of this project is to assist persons in exploring better facilities around their neighbourhood. It will assist people making a clever and perfect decisions on selecting a beautiful neighbourhoods out of numbers of other postal areas in Mumbai, India. \n",
    "Lots and Lot of people are migrating from various states of India and needed big amount of research for great real estate housing prices, new businesses, and well-known professional places for their offsprings. This project is for those individuals who are finding for better neighbourhoods and businesses. \n",
    "It will assists individuals to get the idea of the area and neighbourhood before shifting to a new city, province, state, country, or place for their work or to kickstart a fresh way of life.\n",
    "\n",
    "<b> Business Problem: </b> \n",
    "\n",
    "1. List and visualize all Big parts of Mumbai City with Top rated infrastructure. \n",
    "2. What are the Perfect locations in Mumbai as per infrastructure? \n",
    "3. Which areas have the Capacity and scope for the development of infrastructure of different kinds? \n",
    "4. Which areas lag behind in the infrastructure facilities? \n",
    "5. Which is the Perfect place to stay in the city?\n",
    " \n",
    "\n",
    "<b> Data Description </b>\n",
    "\n",
    "1.\tMumbai Pin code (Which is Scraped from a web source) \n",
    "<ul> source: https://mumbai7.com/postal-codes-in-mumbai/ </ul>\n",
    "<ul> Description: Contains a lists of pin codes, postal office names, city which will be used to discover all postal office of Mumbai. </ul>\n",
    "\n",
    "\n",
    "2.\t Different kinds of infrastructures in each neighbourhood of Mumbai City. \n",
    "    <ul> Data source: Foursquare API </ul>\n",
    "<ul> Description: By using this Foursquare API we will get all the venues of postal office. We will filter these venues to get different infrastructures and venues. </ul>\n",
    "\n",
    "3.\t Geospacer data \n",
    "<ul> Data source: https://github.com/geospace-code/pymap3d </ul>\n",
    "<ul>Description: By using this geospacer data, we will get the latitude and longitude coordinates of the postal office of Mumbai. </ul>\n",
    "\n",
    "\n"
   ]
  }
 ],
 "metadata": {
  "kernelspec": {
   "display_name": "Python 3",
   "language": "python",
   "name": "python3"
  },
  "language_info": {
   "codemirror_mode": {
    "name": "ipython",
    "version": 3
   },
   "file_extension": ".py",
   "mimetype": "text/x-python",
   "name": "python",
   "nbconvert_exporter": "python",
   "pygments_lexer": "ipython3",
   "version": "3.8.5"
  }
 },
 "nbformat": 4,
 "nbformat_minor": 4
}
